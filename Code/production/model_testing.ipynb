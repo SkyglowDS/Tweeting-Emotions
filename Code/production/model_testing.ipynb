{
 "cells": [
  {
   "cell_type": "code",
   "execution_count": 1,
   "metadata": {},
   "outputs": [],
   "source": [
    "import tensorflow as tf\n",
    "import joblib\n",
    "from tensorflow.keras.preprocessing.sequence import pad_sequences"
   ]
  },
  {
   "cell_type": "code",
   "execution_count": 3,
   "metadata": {},
   "outputs": [],
   "source": [
    "model = tf.keras.models.load_model('saved_models/lstm_model.h5')\n",
    "tokenizer = joblib.load('saved_models/tokenizer.joblib')"
   ]
  },
  {
   "cell_type": "code",
   "execution_count": 4,
   "metadata": {},
   "outputs": [],
   "source": [
    "# Sample texts for prediction\n",
    "sample_texts = [\n",
    "    \"I love the product, it's fantastic!\",\n",
    "    \"Terrible experience, will not buy again.\",\n",
    "    \"Service was average, not great.\",\n",
    "    \"Worst purchase ever.\",\n",
    "    \"Very satisfied with the quality.\"\n",
    "]\n"
   ]
  },
  {
   "cell_type": "code",
   "execution_count": 6,
   "metadata": {},
   "outputs": [
    {
     "name": "stdout",
     "output_type": "stream",
     "text": [
      "1/1 [==============================] - 0s 442ms/step\n"
     ]
    }
   ],
   "source": [
    "sample_sequences = tokenizer.texts_to_sequences(sample_texts)\n",
    "sample_padded = pad_sequences(sample_sequences, maxlen=30, padding='post')\n",
    "predictions = (model.predict(sample_padded) > 0.5).astype(int)\n",
    "sentiment_labels = [\"Positive\" if pred == 1 else \"Negative\" for pred in predictions]"
   ]
  },
  {
   "cell_type": "code",
   "execution_count": 7,
   "metadata": {},
   "outputs": [
    {
     "name": "stdout",
     "output_type": "stream",
     "text": [
      "Text: I love the product, it's fantastic!\n",
      "Predicted Sentiment: Positive\n",
      "\n",
      "Text: Terrible experience, will not buy again.\n",
      "Predicted Sentiment: Negative\n",
      "\n",
      "Text: Service was average, not great.\n",
      "Predicted Sentiment: Negative\n",
      "\n",
      "Text: Worst purchase ever.\n",
      "Predicted Sentiment: Negative\n",
      "\n",
      "Text: Very satisfied with the quality.\n",
      "Predicted Sentiment: Positive\n",
      "\n"
     ]
    }
   ],
   "source": [
    "# Display predictions\n",
    "for text, sentiment in zip(sample_texts, sentiment_labels):\n",
    "    print(f\"Text: {text}\\nPredicted Sentiment: {sentiment}\\n\")\n"
   ]
  }
 ],
 "metadata": {
  "kernelspec": {
   "display_name": "OMSA",
   "language": "python",
   "name": "python3"
  },
  "language_info": {
   "codemirror_mode": {
    "name": "ipython",
    "version": 3
   },
   "file_extension": ".py",
   "mimetype": "text/x-python",
   "name": "python",
   "nbconvert_exporter": "python",
   "pygments_lexer": "ipython3",
   "version": "3.9.20"
  }
 },
 "nbformat": 4,
 "nbformat_minor": 2
}
