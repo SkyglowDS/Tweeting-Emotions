{
 "cells": [
  {
   "cell_type": "code",
   "execution_count": 27,
   "metadata": {},
   "outputs": [],
   "source": [
    "import pandas as pd\n",
    "import numpy as np\n",
    "import joblib\n",
    "import matplotlib.pyplot as plt\n",
    "\n",
    "from sklearn.model_selection import train_test_split, cross_val_score, RandomizedSearchCV\n",
    "from sklearn.feature_extraction.text import TfidfVectorizer\n",
    "from sklearn.naive_bayes import BernoulliNB\n",
    "from sklearn.linear_model import LogisticRegression\n",
    "from sklearn.ensemble import RandomForestClassifier\n",
    "\n",
    "from sklearn.metrics import accuracy_score, classification_report, confusion_matrix\n",
    "import os"
   ]
  },
  {
   "cell_type": "code",
   "execution_count": 2,
   "metadata": {},
   "outputs": [],
   "source": [
    "MODEL_DIR = 'saved_models'\n",
    "os.makedirs(MODEL_DIR, exist_ok=True)"
   ]
  },
  {
   "cell_type": "code",
   "execution_count": 3,
   "metadata": {},
   "outputs": [
    {
     "name": "stdout",
     "output_type": "stream",
     "text": [
      "(1600000, 7)\n",
      "(1596818, 7)\n"
     ]
    }
   ],
   "source": [
    "data = pd.read_csv('data/cleaned_tweets.csv', encoding = 'latin1')\n",
    "print(data.shape)\n",
    "data = data[~data['text_cleaned'].isna()]\n",
    "print(data.shape)\n",
    "df = data[['sentiment', 'text_cleaned']]"
   ]
  },
  {
   "cell_type": "code",
   "execution_count": 4,
   "metadata": {},
   "outputs": [
    {
     "data": {
      "text/html": [
       "<div>\n",
       "<style scoped>\n",
       "    .dataframe tbody tr th:only-of-type {\n",
       "        vertical-align: middle;\n",
       "    }\n",
       "\n",
       "    .dataframe tbody tr th {\n",
       "        vertical-align: top;\n",
       "    }\n",
       "\n",
       "    .dataframe thead th {\n",
       "        text-align: right;\n",
       "    }\n",
       "</style>\n",
       "<table border=\"1\" class=\"dataframe\">\n",
       "  <thead>\n",
       "    <tr style=\"text-align: right;\">\n",
       "      <th></th>\n",
       "      <th>sentiment</th>\n",
       "      <th>id</th>\n",
       "      <th>date</th>\n",
       "      <th>query</th>\n",
       "      <th>user_id</th>\n",
       "      <th>text</th>\n",
       "      <th>text_cleaned</th>\n",
       "    </tr>\n",
       "  </thead>\n",
       "  <tbody>\n",
       "    <tr>\n",
       "      <th>0</th>\n",
       "      <td>negative</td>\n",
       "      <td>1467810369</td>\n",
       "      <td>Mon Apr 06 22:19:45 PDT 2009</td>\n",
       "      <td>NO_QUERY</td>\n",
       "      <td>_TheSpecialOne_</td>\n",
       "      <td>@switchfoot http://twitpic.com/2y1zl - Awww, t...</td>\n",
       "      <td>aww that is a bummer you shoulda get david car...</td>\n",
       "    </tr>\n",
       "    <tr>\n",
       "      <th>1</th>\n",
       "      <td>negative</td>\n",
       "      <td>1467810672</td>\n",
       "      <td>Mon Apr 06 22:19:49 PDT 2009</td>\n",
       "      <td>NO_QUERY</td>\n",
       "      <td>scotthamilton</td>\n",
       "      <td>is upset that he can't update his Facebook by ...</td>\n",
       "      <td>is upset that he can not update his facebook b...</td>\n",
       "    </tr>\n",
       "    <tr>\n",
       "      <th>2</th>\n",
       "      <td>negative</td>\n",
       "      <td>1467810917</td>\n",
       "      <td>Mon Apr 06 22:19:53 PDT 2009</td>\n",
       "      <td>NO_QUERY</td>\n",
       "      <td>mattycus</td>\n",
       "      <td>@Kenichan I dived many times for the ball. Man...</td>\n",
       "      <td>i dive many time for the ball manage to save 5...</td>\n",
       "    </tr>\n",
       "    <tr>\n",
       "      <th>3</th>\n",
       "      <td>negative</td>\n",
       "      <td>1467811184</td>\n",
       "      <td>Mon Apr 06 22:19:57 PDT 2009</td>\n",
       "      <td>NO_QUERY</td>\n",
       "      <td>ElleCTF</td>\n",
       "      <td>my whole body feels itchy and like its on fire</td>\n",
       "      <td>my whole body feel itchy and like it on fire</td>\n",
       "    </tr>\n",
       "    <tr>\n",
       "      <th>4</th>\n",
       "      <td>negative</td>\n",
       "      <td>1467811193</td>\n",
       "      <td>Mon Apr 06 22:19:57 PDT 2009</td>\n",
       "      <td>NO_QUERY</td>\n",
       "      <td>Karoli</td>\n",
       "      <td>@nationwideclass no, it's not behaving at all....</td>\n",
       "      <td>no it is not behave at all i am mad why am i h...</td>\n",
       "    </tr>\n",
       "  </tbody>\n",
       "</table>\n",
       "</div>"
      ],
      "text/plain": [
       "  sentiment          id                          date     query  \\\n",
       "0  negative  1467810369  Mon Apr 06 22:19:45 PDT 2009  NO_QUERY   \n",
       "1  negative  1467810672  Mon Apr 06 22:19:49 PDT 2009  NO_QUERY   \n",
       "2  negative  1467810917  Mon Apr 06 22:19:53 PDT 2009  NO_QUERY   \n",
       "3  negative  1467811184  Mon Apr 06 22:19:57 PDT 2009  NO_QUERY   \n",
       "4  negative  1467811193  Mon Apr 06 22:19:57 PDT 2009  NO_QUERY   \n",
       "\n",
       "           user_id                                               text  \\\n",
       "0  _TheSpecialOne_  @switchfoot http://twitpic.com/2y1zl - Awww, t...   \n",
       "1    scotthamilton  is upset that he can't update his Facebook by ...   \n",
       "2         mattycus  @Kenichan I dived many times for the ball. Man...   \n",
       "3          ElleCTF    my whole body feels itchy and like its on fire    \n",
       "4           Karoli  @nationwideclass no, it's not behaving at all....   \n",
       "\n",
       "                                        text_cleaned  \n",
       "0  aww that is a bummer you shoulda get david car...  \n",
       "1  is upset that he can not update his facebook b...  \n",
       "2  i dive many time for the ball manage to save 5...  \n",
       "3       my whole body feel itchy and like it on fire  \n",
       "4  no it is not behave at all i am mad why am i h...  "
      ]
     },
     "execution_count": 4,
     "metadata": {},
     "output_type": "execute_result"
    }
   ],
   "source": [
    "data.head(5)"
   ]
  },
  {
   "cell_type": "code",
   "execution_count": 5,
   "metadata": {},
   "outputs": [
    {
     "data": {
      "text/html": [
       "<div>\n",
       "<style scoped>\n",
       "    .dataframe tbody tr th:only-of-type {\n",
       "        vertical-align: middle;\n",
       "    }\n",
       "\n",
       "    .dataframe tbody tr th {\n",
       "        vertical-align: top;\n",
       "    }\n",
       "\n",
       "    .dataframe thead th {\n",
       "        text-align: right;\n",
       "    }\n",
       "</style>\n",
       "<table border=\"1\" class=\"dataframe\">\n",
       "  <thead>\n",
       "    <tr style=\"text-align: right;\">\n",
       "      <th></th>\n",
       "      <th>sentiment</th>\n",
       "      <th>text_cleaned</th>\n",
       "    </tr>\n",
       "  </thead>\n",
       "  <tbody>\n",
       "    <tr>\n",
       "      <th>0</th>\n",
       "      <td>negative</td>\n",
       "      <td>aww that is a bummer you shoulda get david car...</td>\n",
       "    </tr>\n",
       "    <tr>\n",
       "      <th>1</th>\n",
       "      <td>negative</td>\n",
       "      <td>is upset that he can not update his facebook b...</td>\n",
       "    </tr>\n",
       "  </tbody>\n",
       "</table>\n",
       "</div>"
      ],
      "text/plain": [
       "  sentiment                                       text_cleaned\n",
       "0  negative  aww that is a bummer you shoulda get david car...\n",
       "1  negative  is upset that he can not update his facebook b..."
      ]
     },
     "execution_count": 5,
     "metadata": {},
     "output_type": "execute_result"
    }
   ],
   "source": [
    "df.head(2)"
   ]
  },
  {
   "cell_type": "code",
   "execution_count": 6,
   "metadata": {},
   "outputs": [
    {
     "data": {
      "text/plain": [
       "Index(['sentiment', 'text_cleaned'], dtype='object')"
      ]
     },
     "execution_count": 6,
     "metadata": {},
     "output_type": "execute_result"
    }
   ],
   "source": [
    "df.columns"
   ]
  },
  {
   "cell_type": "markdown",
   "metadata": {},
   "source": [
    "## Data Split"
   ]
  },
  {
   "cell_type": "code",
   "execution_count": 7,
   "metadata": {},
   "outputs": [],
   "source": [
    "TRAIN_SIZE = 0.8\n",
    "MAX_NB_WORDS = 100000\n",
    "MAX_SEQUENCE_LENGTH = 30"
   ]
  },
  {
   "cell_type": "code",
   "execution_count": 8,
   "metadata": {},
   "outputs": [
    {
     "name": "stdout",
     "output_type": "stream",
     "text": [
      "Train Data size: 1277454\n",
      "Test Data size 319364\n"
     ]
    }
   ],
   "source": [
    "train_data, test_data = train_test_split(df, test_size=1-TRAIN_SIZE,\n",
    "                                         random_state=77) \n",
    "\n",
    "print(\"Train Data size:\", len(train_data))\n",
    "print(\"Test Data size\", len(test_data))"
   ]
  },
  {
   "cell_type": "code",
   "execution_count": 9,
   "metadata": {},
   "outputs": [
    {
     "name": "stdout",
     "output_type": "stream",
     "text": [
      "Train Data size: 798409\n",
      "Test Data size 798409\n"
     ]
    }
   ],
   "source": [
    "train_data_rf, test_data_rf = train_test_split(df, test_size=0.5,\n",
    "                                         random_state=77) \n",
    "\n",
    "print(\"Train Data size:\", len(train_data_rf))\n",
    "print(\"Test Data size\", len(test_data_rf))"
   ]
  },
  {
   "cell_type": "code",
   "execution_count": 10,
   "metadata": {},
   "outputs": [
    {
     "data": {
      "text/plain": [
       "sentiment\n",
       "positive    639151\n",
       "negative    638303\n",
       "Name: count, dtype: int64"
      ]
     },
     "execution_count": 10,
     "metadata": {},
     "output_type": "execute_result"
    }
   ],
   "source": [
    "train_data['sentiment'].value_counts()"
   ]
  },
  {
   "cell_type": "code",
   "execution_count": 11,
   "metadata": {},
   "outputs": [
    {
     "data": {
      "text/plain": [
       "sentiment\n",
       "negative    160087\n",
       "positive    159277\n",
       "Name: count, dtype: int64"
      ]
     },
     "execution_count": 11,
     "metadata": {},
     "output_type": "execute_result"
    }
   ],
   "source": [
    "test_data['sentiment'].value_counts()"
   ]
  },
  {
   "cell_type": "markdown",
   "metadata": {},
   "source": [
    "# Model Training"
   ]
  },
  {
   "cell_type": "markdown",
   "metadata": {},
   "source": [
    "## Preprocessing"
   ]
  },
  {
   "cell_type": "code",
   "execution_count": 12,
   "metadata": {},
   "outputs": [],
   "source": [
    "vectorizer = TfidfVectorizer(max_features=10000, ngram_range=(1, 2))\n",
    "X_train = vectorizer.fit_transform(train_data['text_cleaned'])\n",
    "X_test = vectorizer.transform(test_data['text_cleaned'])"
   ]
  },
  {
   "cell_type": "code",
   "execution_count": 13,
   "metadata": {},
   "outputs": [],
   "source": [
    "vectorizer_rf = TfidfVectorizer(max_features=1000, ngram_range=(1, 2))\n",
    "X_train_rf = vectorizer_rf.fit_transform(train_data_rf['text_cleaned'])\n",
    "X_test_rf = vectorizer_rf.transform(test_data_rf['text_cleaned'])"
   ]
  },
  {
   "cell_type": "code",
   "execution_count": 14,
   "metadata": {},
   "outputs": [
    {
     "name": "stdout",
     "output_type": "stream",
     "text": [
      "Vectorizer saved at: saved_models\\tfidf_vectorizer.joblib\n"
     ]
    }
   ],
   "source": [
    "vectorizer_path = os.path.join(MODEL_DIR, 'tfidf_vectorizer.joblib')\n",
    "joblib.dump(vectorizer, vectorizer_path)\n",
    "print(f\"Vectorizer saved at: {vectorizer_path}\")"
   ]
  },
  {
   "cell_type": "code",
   "execution_count": 15,
   "metadata": {},
   "outputs": [
    {
     "name": "stdout",
     "output_type": "stream",
     "text": [
      "Vectorizer saved at: saved_models\\tfidf_vectorizer_rf.joblib\n"
     ]
    }
   ],
   "source": [
    "vectorizer_rf_path = os.path.join(MODEL_DIR, 'tfidf_vectorizer_rf.joblib')\n",
    "joblib.dump(vectorizer_rf, vectorizer_rf_path)\n",
    "print(f\"Vectorizer saved at: {vectorizer_rf_path}\")"
   ]
  },
  {
   "cell_type": "code",
   "execution_count": 16,
   "metadata": {},
   "outputs": [],
   "source": [
    "y_train = train_data['sentiment'].apply(lambda x: 1 if x == 'positive' else 0)\n",
    "y_test = test_data['sentiment'].apply(lambda x: 1 if x == 'positive' else 0)"
   ]
  },
  {
   "cell_type": "code",
   "execution_count": 17,
   "metadata": {},
   "outputs": [],
   "source": [
    "y_train_rf = train_data_rf['sentiment'].apply(lambda x: 1 if x == 'positive' else 0)\n",
    "y_test_rf = test_data_rf['sentiment'].apply(lambda x: 1 if x == 'positive' else 0)"
   ]
  },
  {
   "cell_type": "code",
   "execution_count": 18,
   "metadata": {},
   "outputs": [],
   "source": [
    "def cross_validate_evaluate_and_save(model, X_train, y_train, X_test, y_test, model_name):\n",
    "\n",
    "    cv_scores = cross_val_score(model, X_train, y_train, cv=5, scoring='accuracy')\n",
    "    print(f\"\\n=== {model_name} ===\")\n",
    "    print(\"Cross-Validation Accuracy Scores:\", cv_scores)\n",
    "    print(\"Mean CV Accuracy:\", np.mean(cv_scores))\n",
    "    print(\"Standard Deviation of CV Accuracy:\", np.std(cv_scores))\n",
    "\n",
    "    model.fit(X_train, y_train)\n",
    "\n",
    "    model_path = os.path.join(MODEL_DIR, f\"{model_name}.joblib\")\n",
    "    joblib.dump(model, model_path)\n",
    "    print(f\"Model saved at: {model_path}\")\n",
    "\n",
    "    y_pred = model.predict(X_test)\n",
    "    print(\"Test Accuracy:\", accuracy_score(y_test, y_pred))\n",
    "    print(\"Classification Report:\\n\", classification_report(y_test, y_pred))\n",
    "    print(\"Confusion Matrix:\\n\", confusion_matrix(y_test, y_pred))"
   ]
  },
  {
   "cell_type": "markdown",
   "metadata": {},
   "source": [
    "# Models\n",
    "## Naive Bayes"
   ]
  },
  {
   "cell_type": "code",
   "execution_count": 19,
   "metadata": {},
   "outputs": [
    {
     "name": "stdout",
     "output_type": "stream",
     "text": [
      "\n",
      "=== Bernoulli Naive Bayes ===\n",
      "Cross-Validation Accuracy Scores: [0.77232858 0.77313095 0.77179235 0.77058683 0.773725  ]\n",
      "Mean CV Accuracy: 0.7723127419165442\n",
      "Standard Deviation of CV Accuracy: 0.0010875442137759674\n",
      "Model saved at: saved_models\\Bernoulli Naive Bayes.joblib\n",
      "Test Accuracy: 0.7715897846970855\n",
      "Classification Report:\n",
      "               precision    recall  f1-score   support\n",
      "\n",
      "           0       0.79      0.75      0.77    160087\n",
      "           1       0.76      0.79      0.78    159277\n",
      "\n",
      "    accuracy                           0.77    319364\n",
      "   macro avg       0.77      0.77      0.77    319364\n",
      "weighted avg       0.77      0.77      0.77    319364\n",
      "\n",
      "Confusion Matrix:\n",
      " [[119824  40263]\n",
      " [ 32683 126594]]\n"
     ]
    }
   ],
   "source": [
    "bernoulli_nb = BernoulliNB()\n",
    "cross_validate_evaluate_and_save(bernoulli_nb, X_train, y_train, X_test, y_test, \"Bernoulli Naive Bayes\")"
   ]
  },
  {
   "cell_type": "markdown",
   "metadata": {},
   "source": [
    "## Logistic Regression"
   ]
  },
  {
   "cell_type": "code",
   "execution_count": 20,
   "metadata": {},
   "outputs": [
    {
     "name": "stdout",
     "output_type": "stream",
     "text": [
      "\n",
      "=== Logistic Regression ===\n",
      "Cross-Validation Accuracy Scores: [0.80765663 0.80844335 0.80686991 0.80610276 0.808971  ]\n",
      "Mean CV Accuracy: 0.8076087290519016\n",
      "Standard Deviation of CV Accuracy: 0.0010361912126448112\n",
      "Model saved at: saved_models\\Logistic Regression.joblib\n",
      "Test Accuracy: 0.806978870505129\n",
      "Classification Report:\n",
      "               precision    recall  f1-score   support\n",
      "\n",
      "           0       0.81      0.80      0.81    160087\n",
      "           1       0.80      0.82      0.81    159277\n",
      "\n",
      "    accuracy                           0.81    319364\n",
      "   macro avg       0.81      0.81      0.81    319364\n",
      "weighted avg       0.81      0.81      0.81    319364\n",
      "\n",
      "Confusion Matrix:\n",
      " [[127417  32670]\n",
      " [ 28974 130303]]\n"
     ]
    }
   ],
   "source": [
    "logistic_regression = LogisticRegression(max_iter=1000, random_state=77)\n",
    "cross_validate_evaluate_and_save(logistic_regression, X_train, y_train, X_test, y_test, \"Logistic Regression\")"
   ]
  },
  {
   "cell_type": "markdown",
   "metadata": {},
   "source": [
    "## Random Forest"
   ]
  },
  {
   "cell_type": "code",
   "execution_count": 21,
   "metadata": {},
   "outputs": [],
   "source": [
    "# random_forest = RandomForestClassifier(n_estimators=100, random_state=77, verbose=2)\n",
    "# cross_validate_evaluate_and_save(random_forest, X_train_rf, y_train_rf, X_test_rf, y_test_rf, \"Random Forest\")"
   ]
  },
  {
   "cell_type": "code",
   "execution_count": null,
   "metadata": {},
   "outputs": [],
   "source": []
  },
  {
   "cell_type": "markdown",
   "metadata": {},
   "source": [
    "# Random Search"
   ]
  },
  {
   "cell_type": "code",
   "execution_count": 36,
   "metadata": {},
   "outputs": [],
   "source": [
    "def cross_validate_tune_and_save(model, param_distributions, X_train, y_train, X_test, y_test, model_name, n_iter=10):\n",
    "    random_search = RandomizedSearchCV(model, param_distributions, n_iter=n_iter, cv=5, scoring='accuracy', random_state=77, n_jobs=-1)\n",
    "    random_search.fit(X_train, y_train)\n",
    "\n",
    "    print(f\"\\n=== {model_name} Best Parameters ===\")\n",
    "    print(random_search.best_params_)\n",
    "\n",
    "    best_model = random_search.best_estimator_\n",
    "\n",
    "    cv_scores = cross_val_score(best_model, X_train, y_train, cv=100, scoring='accuracy')\n",
    "    print(\"Cross-Validation Accuracy Scores:\", cv_scores)\n",
    "    print(\"Mean CV Accuracy:\", np.mean(cv_scores))\n",
    "    print(\"Standard Deviation of CV Accuracy:\", np.std(cv_scores))\n",
    "\n",
    "    best_model.fit(X_train, y_train)\n",
    "\n",
    "    model_path = os.path.join(MODEL_DIR, f\"{model_name}.joblib\")\n",
    "    joblib.dump(best_model, model_path)\n",
    "    print(f\"Model saved at: {model_path}\")\n",
    "\n",
    "    y_pred = best_model.predict(X_test)\n",
    "    print(\"Test Accuracy:\", accuracy_score(y_test, y_pred))\n",
    "    print(\"Classification Report:\\n\", classification_report(y_test, y_pred))\n",
    "    print(\"Confusion Matrix:\\n\", confusion_matrix(y_test, y_pred))\n",
    "\n",
    "    return cv_scores"
   ]
  },
  {
   "cell_type": "code",
   "execution_count": 37,
   "metadata": {},
   "outputs": [],
   "source": [
    "bernoulli_nb_params = {\n",
    "    'alpha': np.linspace(0.1, 1.0, 10)\n",
    "}\n",
    "\n",
    "logistic_regression_params = {\n",
    "    'C': np.logspace(-3, 3, 7),\n",
    "    'penalty': ['l2']\n",
    "}\n",
    "\n",
    "random_forest_params = {\n",
    "    'n_estimators': [50, 100, 150],\n",
    "    'max_depth': [None, 10, 20, 30],\n",
    "    'min_samples_split': [2, 5, 10]\n",
    "}"
   ]
  },
  {
   "cell_type": "markdown",
   "metadata": {},
   "source": [
    "## Naive Bayes"
   ]
  },
  {
   "cell_type": "code",
   "execution_count": 38,
   "metadata": {},
   "outputs": [
    {
     "name": "stdout",
     "output_type": "stream",
     "text": [
      "\n",
      "=== Bernoulli Naive Bayes Best Parameters ===\n",
      "{'alpha': 0.1}\n",
      "Cross-Validation Accuracy Scores: [0.76594912 0.76900196 0.77166341 0.76704501 0.77354207 0.77549902\n",
      " 0.77894325 0.77823875 0.77033268 0.77213307 0.77949119 0.77526419\n",
      " 0.76727984 0.77448141 0.77221135 0.76727984 0.77385519 0.77870841\n",
      " 0.77291585 0.76571429 0.77299413 0.77009785 0.76774951 0.77753425\n",
      " 0.77432485 0.77534247 0.77393346 0.77221135 0.77252446 0.77659491\n",
      " 0.77088063 0.77048924 0.7748728  0.77455969 0.78003914 0.76853229\n",
      " 0.77205479 0.77925636 0.7702544  0.76986301 0.77800391 0.77299413\n",
      " 0.77596869 0.77048924 0.7816047  0.76861057 0.77048924 0.77166341\n",
      " 0.77518591 0.77213307 0.76414873 0.76970646 0.76837573 0.77158513\n",
      " 0.77336778 0.77360263 0.76616565 0.76976671 0.77086269 0.77156725\n",
      " 0.76624393 0.77540316 0.77336778 0.77493346 0.76608736 0.77023642\n",
      " 0.77681227 0.77321121 0.76898387 0.76914044 0.77297636 0.77094097\n",
      " 0.77344606 0.76679192 0.76874902 0.76796618 0.76389541 0.769845\n",
      " 0.77516831 0.77352435 0.77516831 0.77876938 0.77407233 0.77642085\n",
      " 0.77728198 0.77477689 0.76929701 0.76530452 0.77219352 0.77399405\n",
      " 0.77728198 0.77383748 0.77117583 0.76749648 0.77634257 0.77626429\n",
      " 0.77532488 0.7781431  0.77289807 0.77328949]\n",
      "Mean CV Accuracy: 0.7724700762342295\n",
      "Standard Deviation of CV Accuracy: 0.0038650604470049873\n",
      "Model saved at: saved_models\\Bernoulli Naive Bayes.joblib\n",
      "Test Accuracy: 0.7716461467165993\n",
      "Classification Report:\n",
      "               precision    recall  f1-score   support\n",
      "\n",
      "           0       0.79      0.75      0.77    160087\n",
      "           1       0.76      0.79      0.78    159277\n",
      "\n",
      "    accuracy                           0.77    319364\n",
      "   macro avg       0.77      0.77      0.77    319364\n",
      "weighted avg       0.77      0.77      0.77    319364\n",
      "\n",
      "Confusion Matrix:\n",
      " [[119853  40234]\n",
      " [ 32694 126583]]\n"
     ]
    }
   ],
   "source": [
    "bernoulli_nb_scores = cross_validate_tune_and_save(BernoulliNB(), bernoulli_nb_params, X_train, y_train, X_test, y_test, \"Bernoulli Naive Bayes\")"
   ]
  },
  {
   "cell_type": "markdown",
   "metadata": {},
   "source": [
    "## Logistic Regression"
   ]
  },
  {
   "cell_type": "code",
   "execution_count": 39,
   "metadata": {},
   "outputs": [
    {
     "name": "stderr",
     "output_type": "stream",
     "text": [
      "c:\\Users\\Skyglow\\anaconda3\\envs\\OMSA\\lib\\site-packages\\sklearn\\model_selection\\_search.py:320: UserWarning: The total space of parameters 7 is smaller than n_iter=10. Running 7 iterations. For exhaustive searches, use GridSearchCV.\n",
      "  warnings.warn(\n"
     ]
    },
    {
     "name": "stdout",
     "output_type": "stream",
     "text": [
      "\n",
      "=== Logistic Regression Best Parameters ===\n",
      "{'penalty': 'l2', 'C': 1.0}\n",
      "Cross-Validation Accuracy Scores: [0.80172211 0.80563601 0.80626223 0.80305284 0.8102544  0.80970646\n",
      " 0.81667319 0.8134638  0.80587084 0.80767123 0.81581213 0.80923679\n",
      " 0.80015656 0.81252446 0.80547945 0.80383562 0.80806262 0.81338552\n",
      " 0.80688845 0.80430528 0.80696673 0.8074364  0.80962818 0.81315068\n",
      " 0.80438356 0.81033268 0.81369863 0.80923679 0.80821918 0.81189824\n",
      " 0.8088454  0.80524462 0.81072407 0.81001957 0.8109589  0.80563601\n",
      " 0.80579256 0.81041096 0.80720157 0.80947162 0.80477495 0.80587084\n",
      " 0.80821918 0.81009785 0.81690802 0.80407045 0.80148728 0.80923679\n",
      " 0.80751468 0.80524462 0.80203523 0.80587084 0.80508806 0.80868885\n",
      " 0.81102239 0.8070299  0.80577736 0.80499452 0.80765618 0.8124315\n",
      " 0.8085173  0.80749961 0.80687334 0.8104744  0.80569908 0.80616878\n",
      " 0.81211837 0.8070299  0.80734304 0.80562079 0.80562079 0.80640363\n",
      " 0.80648192 0.80123689 0.80695162 0.80295914 0.80280257 0.80499452\n",
      " 0.81063097 0.80593393 0.80906529 0.80765618 0.81078754 0.81352748\n",
      " 0.81141381 0.80890872 0.81211837 0.8070299  0.80796931 0.8085173\n",
      " 0.81219665 0.80875215 0.80405511 0.80679505 0.8124315  0.80937842\n",
      " 0.80624706 0.80757789 0.80554251 0.81078754]\n",
      "Mean CV Accuracy: 0.8079539420980179\n",
      "Standard Deviation of CV Accuracy: 0.0033488760869479824\n",
      "Model saved at: saved_models\\Logistic Regression.joblib\n",
      "Test Accuracy: 0.806978870505129\n",
      "Classification Report:\n",
      "               precision    recall  f1-score   support\n",
      "\n",
      "           0       0.81      0.80      0.81    160087\n",
      "           1       0.80      0.82      0.81    159277\n",
      "\n",
      "    accuracy                           0.81    319364\n",
      "   macro avg       0.81      0.81      0.81    319364\n",
      "weighted avg       0.81      0.81      0.81    319364\n",
      "\n",
      "Confusion Matrix:\n",
      " [[127417  32670]\n",
      " [ 28974 130303]]\n"
     ]
    }
   ],
   "source": [
    "logistic_regression_scores = cross_validate_tune_and_save(LogisticRegression(max_iter=1000, random_state=77), logistic_regression_params, X_train, y_train, X_test, y_test, \"Logistic Regression\")"
   ]
  },
  {
   "cell_type": "markdown",
   "metadata": {},
   "source": [
    "# Plot RF Results"
   ]
  },
  {
   "cell_type": "code",
   "execution_count": 40,
   "metadata": {},
   "outputs": [
    {
     "name": "stderr",
     "output_type": "stream",
     "text": [
      "C:\\Users\\Skyglow\\AppData\\Local\\Temp\\ipykernel_46448\\3184924137.py:2: MatplotlibDeprecationWarning: The 'labels' parameter of boxplot() has been renamed 'tick_labels' since Matplotlib 3.9; support for the old name will be dropped in 3.11.\n",
      "  plt.boxplot([bernoulli_nb_scores, logistic_regression_scores],\n"
     ]
    },
    {
     "data": {
      "image/png": "[encoded data removed]",
      "text/plain": [
       "<Figure size 500x300 with 1 Axes>"
      ]
     },
     "metadata": {},
     "output_type": "display_data"
    }
   ],
   "source": [
    "plt.figure(figsize=(5, 3))\n",
    "plt.boxplot([bernoulli_nb_scores, logistic_regression_scores],\n",
    "            labels=['Bernoulli NB', 'Logistic Regression'])\n",
    "plt.title('Cross-Validation Accuracy Scores for Models')\n",
    "plt.ylabel('Accuracy')\n",
    "plt.grid()\n",
    "plt.show()"
   ]
  },
  {
   "cell_type": "code",
   "execution_count": null,
   "metadata": {},
   "outputs": [],
   "source": []
  },
  {
   "cell_type": "code",
   "execution_count": null,
   "metadata": {},
   "outputs": [],
   "source": []
  }
 ],
 "metadata": {
  "kernelspec": {
   "display_name": "OMSA",
   "language": "python",
   "name": "python3"
  },
  "language_info": {
   "codemirror_mode": {
    "name": "ipython",
    "version": 3
   },
   "file_extension": ".py",
   "mimetype": "text/x-python",
   "name": "python",
   "nbconvert_exporter": "python",
   "pygments_lexer": "ipython3",
   "version": "3.9.20"
  }
 },
 "nbformat": 4,
 "nbformat_minor": 2
}
